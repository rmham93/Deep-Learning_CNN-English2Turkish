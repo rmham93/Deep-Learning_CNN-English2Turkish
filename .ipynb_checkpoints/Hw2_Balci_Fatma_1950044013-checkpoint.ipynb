{
 "cells": [
  {
   "cell_type": "markdown",
   "metadata": {},
   "source": [
    "## Part 1: Preparing Data"
   ]
  },
  {
   "cell_type": "code",
   "execution_count": null,
   "metadata": {},
   "outputs": [],
   "source": [
    "import fileinput\n",
    "import numpy as np\n",
    "filename = \"turkish.txt\" #wiki_00\n",
    "outputFilename = \"output.txt\"\n",
    "engFilename = \"english.txt\""
   ]
  },
  {
   "cell_type": "code",
   "execution_count": null,
   "metadata": {},
   "outputs": [],
   "source": [
    "trFile = open(filename ,'r+')\n",
    "engFile = open(engFilename ,'w+')\n",
    "outFile = open(outputFilename ,'w+')\n",
    "\n",
    "#data preparation may be needed\n",
    "import os\n",
    "os.stat(filename).st_size\n",
    "\n",
    "#PS: whitespace may be problem!!"
   ]
  },
  {
   "cell_type": "markdown",
   "metadata": {},
   "source": [
    "\"**wiki_00**\" file is from:  https://www.kaggle.com/mustfkeskin/turkish-wikipedia-dump"
   ]
  },
  {
   "cell_type": "code",
   "execution_count": null,
   "metadata": {},
   "outputs": [],
   "source": [
    "def binValue(char):\n",
    "    binArr =[]\n",
    "    binStr = np.binary_repr(ord(char), width=8)\n",
    "    \n",
    "    for each in binStr:\n",
    "         binArr.append(int(each,2))\n",
    "    binArr = np.array(binArr)\n",
    "    \n",
    "    return binArr\n",
    "binValue(\"A\")"
   ]
  },
  {
   "cell_type": "code",
   "execution_count": null,
   "metadata": {},
   "outputs": [],
   "source": [
    "#file\n",
    "specialChar =['ö','ğ','ı','ü','ş','ç','İ','Ö','Ü','Ş','Ç']\n",
    "replaceWith =['o','g','i','u','s','c','I','O','U','S','C']\n",
    "#will be used replacing special chars from trFile to engFile\n",
    "\n",
    "engArr=[]\n",
    "outArr =[]\n",
    "\n",
    "for line in trFile:\n",
    "     for a in line:\n",
    "        if a in specialChar: \n",
    "            #outFile.write(\"1\")\n",
    "            outArr.append(1)\n",
    "            index = specialChar.index(a)\n",
    "            b = replaceWith[index]\n",
    "            #engFile.write(b)\n",
    "            engArr.append(binValue(b))\n",
    "            #print(b ,end=\"\")  \n",
    "\n",
    "        else:\n",
    "            outArr.append(0)\n",
    "            #outFile.write(\"0\");\n",
    "            #engFile.write(a)\n",
    "            engArr.append( binValue(a))\n",
    "            #print(a,end=\"\")\n",
    "            \n",
    "outArr = np.array(outArr)\n",
    "engArr = np.array(engArr)\n",
    "\n",
    "engArr= np.transpose(engArr)"
   ]
  },
  {
   "cell_type": "code",
   "execution_count": null,
   "metadata": {},
   "outputs": [],
   "source": [
    "outArr\n",
    "engArr.shape"
   ]
  },
  {
   "cell_type": "raw",
   "metadata": {},
   "source": [
    "#array\n",
    "specialChar =['ö','ğ','ı','ü','ş','ç','İ','Ö','Ü','Ş','Ç']\n",
    "replaceWith =['o','g','i','u','s','c','I','O','U','S','C']\n",
    "outArr = []\n",
    "engArr =[]\n",
    "for line in trFile:\n",
    "     for a in line:\n",
    "        if a in specialChar: \n",
    "            outArr += \"1\"\n",
    "            index = specialChar.index(a)\n",
    "            b = replaceWith[index]\n",
    "            binArray = binValue(b) #we will give b and receive a (1x8) array\n",
    "            engArr.append(binArray)\n",
    "            \n",
    "        else:\n",
    "            outArr +=\"0\"\n",
    "            binArray = binValue(a)\n",
    "            engArr.append(binArray)\n",
    "engArr = np.array(engArr)            "
   ]
  },
  {
   "cell_type": "markdown",
   "metadata": {},
   "source": [
    "***\n",
    "**Results and Comments**\n",
    "                                \n",
    "- I changed all special characters in turkish file (trFile) and wrote with english characters to english file (engFile). And when I find special character I add to my array or output file 1 value else 0, to use those as my output in CNN. \n",
    "\n",
    "- Right now we have our input and output files ready. In the other part we should prepare CNN and let it learn from our input and output. I will use 8 bit ASCII value of each char in the input text (engFile).\n",
    "\n",
    "* * *\n",
    "\n",
    "|b|u|g|u|n|\n",
    "|------|------|------|------|------|\n",
    "|0|0|0|1|0|\n",
    "\n",
    "- For example we have bugun written in engFile, we write output file 1 for turkish char \"ü\" as it can be seen above\n",
    "***"
   ]
  },
  {
   "cell_type": "code",
   "execution_count": null,
   "metadata": {},
   "outputs": [],
   "source": [
    "eng2DArr =[]\n",
    "k=0\n",
    "for i in range(2):\n",
    "    eng2DArr.append(engArr[k:k+100])\n",
    "    k+=100\n",
    "    \n",
    "eng2DArr = np.transpose(eng2DArr)\n",
    "eng2DArr.shape"
   ]
  },
  {
   "cell_type": "code",
   "execution_count": null,
   "metadata": {},
   "outputs": [],
   "source": [
    "trFile.close()\n",
    "engFile.close()\n",
    "outFile.close() #or outArr can be used for training"
   ]
  },
  {
   "cell_type": "markdown",
   "metadata": {},
   "source": [
    "## Part 2: English  to Turkish"
   ]
  },
  {
   "cell_type": "code",
   "execution_count": null,
   "metadata": {},
   "outputs": [],
   "source": [
    "from __future__ import absolute_import, division, print_function, unicode_literals\n",
    "import tensorflow as tf\n",
    "import tensorflow.keras as keras\n",
    "from keras.models import Sequential\n",
    "from keras.layers import Dense, Conv2D, Flatten#create model\n",
    "from keras.layers import Dropout, Activation\n",
    "from keras import losses"
   ]
  },
  {
   "cell_type": "code",
   "execution_count": null,
   "metadata": {},
   "outputs": [],
   "source": [
    "x_train = eng2DArr\n",
    "y_train = outArr[100:1100]\n",
    "\n",
    "x_test = eng2DArr\n",
    "y_test = outArr[:100]\n",
    "\n",
    "#x_test = x_test.reshape(100,)\n",
    "#x_train = x_train.reshape(1254,)\n",
    "\n",
    "#y_test = y_test.reshape(100,)\n",
    "#y_train = y_train.reshape(1254,)\n",
    "outArr.shape"
   ]
  },
  {
   "cell_type": "code",
   "execution_count": null,
   "metadata": {},
   "outputs": [],
   "source": [
    "from keras.utils import to_categorical\n",
    "\n",
    "y_train = to_categorical(y_train)\n",
    "y_test = to_categorical(y_test)\n",
    "\n",
    "x_train = np.random.rand(2,100,8)\n",
    "y_train = np.random.rand(2,100,100)\n",
    "\n",
    "print(y_train.shape)\n",
    "print(x_train.shape)"
   ]
  },
  {
   "cell_type": "code",
   "execution_count": null,
   "metadata": {},
   "outputs": [],
   "source": [
    "model = Sequential()#add model layers\n",
    "model.add(Conv2D(64, kernel_size=1, activation='relu', input_shape=(100,8)))\n",
    "#model.add(Dropout(0.25))\n",
    "#model.add(Conv2D(32, kernel_size=4, activation='relu'))\n",
    "#model.add(Flatten())\n",
    "model.add(Dense(100, activation='softmax'))"
   ]
  },
  {
   "cell_type": "code",
   "execution_count": null,
   "metadata": {},
   "outputs": [],
   "source": [
    "model.compile(optimizer='adam', loss=losses.binary_crossentropy, metrics=['accuracy'])\n",
    "model.summary()"
   ]
  },
  {
   "cell_type": "code",
   "execution_count": null,
   "metadata": {},
   "outputs": [],
   "source": [
    "model.fit(x_train, y_train, batch_size=1, epochs=1, validation_data=(x_test,y_test))"
   ]
  },
  {
   "cell_type": "code",
   "execution_count": null,
   "metadata": {},
   "outputs": [],
   "source": []
  },
  {
   "cell_type": "code",
   "execution_count": null,
   "metadata": {},
   "outputs": [],
   "source": []
  }
 ],
 "metadata": {
  "kernelspec": {
   "display_name": "Python 3",
   "language": "python",
   "name": "python3"
  },
  "language_info": {
   "codemirror_mode": {
    "name": "ipython",
    "version": 3
   },
   "file_extension": ".py",
   "mimetype": "text/x-python",
   "name": "python",
   "nbconvert_exporter": "python",
   "pygments_lexer": "ipython3",
   "version": "3.6.9"
  }
 },
 "nbformat": 4,
 "nbformat_minor": 2
}
