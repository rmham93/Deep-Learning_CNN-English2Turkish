{
 "cells": [
  {
   "cell_type": "code",
   "execution_count": 1,
   "metadata": {},
   "outputs": [
    {
     "name": "stderr",
     "output_type": "stream",
     "text": [
      "Using TensorFlow backend.\n"
     ]
    }
   ],
   "source": [
    "from __future__ import absolute_import, division, print_function, unicode_literals\n",
    "import tensorflow as tf\n",
    "import tensorflow.keras as keras\n",
    "from keras.models import Sequential\n",
    "from keras.layers import Dense, Conv2D, Flatten#create model\n",
    "from keras.layers import Dropout, Activation\n",
    "from keras.utils import to_categorical\n",
    "from keras import losses"
   ]
  },
  {
   "cell_type": "code",
   "execution_count": 2,
   "metadata": {},
   "outputs": [],
   "source": [
    "import fileinput\n",
    "import numpy as np\n",
    "filename = \"turkish.txt\" #wiki_00\n",
    "trFile = open(filename ,'r+')"
   ]
  },
  {
   "cell_type": "markdown",
   "metadata": {},
   "source": [
    "\"**wiki_00**\" file is from:  https://www.kaggle.com/mustfkeskin/turkish-wikipedia-dump"
   ]
  },
  {
   "cell_type": "markdown",
   "metadata": {},
   "source": [
    "#### Data Preprocessing"
   ]
  },
  {
   "cell_type": "code",
   "execution_count": 3,
   "metadata": {},
   "outputs": [
    {
     "data": {
      "text/plain": [
       "False"
      ]
     },
     "execution_count": 3,
     "metadata": {},
     "output_type": "execute_result"
    }
   ],
   "source": [
    "def isChar(ch):\n",
    "    if (ord(ch)>64 and ord(ch)<91) or (ord(ch)>96 and ord(ch)<123):\n",
    "        return True\n",
    "    else:\n",
    "        return False\n",
    "ord('/')    #Control\n",
    "isChar('/')"
   ]
  },
  {
   "cell_type": "code",
   "execution_count": 4,
   "metadata": {},
   "outputs": [
    {
     "data": {
      "text/plain": [
       "array([0, 1, 0, 0, 0, 0, 0, 1])"
      ]
     },
     "execution_count": 4,
     "metadata": {},
     "output_type": "execute_result"
    }
   ],
   "source": [
    "def binValue(char):\n",
    "    binArr =[]\n",
    "    binStr = np.binary_repr(ord(char), width=8)\n",
    "    \n",
    "    for each in binStr:\n",
    "         binArr.append(int(each,2))\n",
    "    binArr = np.array(binArr)\n",
    "    \n",
    "    return binArr\n",
    "binValue(\"A\")"
   ]
  },
  {
   "cell_type": "code",
   "execution_count": 5,
   "metadata": {},
   "outputs": [],
   "source": [
    "specialChar =['ö','ğ','ı','ü','ş','ç','İ','Ö','Ü','Ş','Ç']\n",
    "engChar =['o','g','i','u','s','c','I','O','U','S','C']\n",
    "\n",
    "engArr =[]\n",
    "outArr =[]\n",
    "\n",
    "for line in trFile:\n",
    "    for a in line:\n",
    "        if a in specialChar: \n",
    "            index = specialChar.index(a)\n",
    "            b = engChar[index]\n",
    "            engArr.append(binValue(b))\n",
    "            outArr.append(1)\n",
    "        elif not(isChar(a)):\n",
    "            engArr.append(binValue(\" \"))\n",
    "            outArr.append(0)\n",
    "        else:               \n",
    "            engArr.append(binValue(a))\n",
    "            outArr.append(0)\n",
    "                \n",
    "engArr = np.array(engArr)\n",
    "outArr = np.array(outArr)"
   ]
  },
  {
   "cell_type": "code",
   "execution_count": 6,
   "metadata": {},
   "outputs": [
    {
     "data": {
      "text/plain": [
       "(2254, 8)"
      ]
     },
     "execution_count": 6,
     "metadata": {},
     "output_type": "execute_result"
    }
   ],
   "source": [
    "engArr.shape"
   ]
  },
  {
   "cell_type": "markdown",
   "metadata": {},
   "source": [
    "c =[]\n",
    "c.append([1,2,3,4])\n",
    "c.append([5,6,7,8])\n",
    "\n",
    "c= np.array(c)\n",
    "c.shape"
   ]
  },
  {
   "cell_type": "markdown",
   "metadata": {},
   "source": [
    "***\n",
    "**Results and Comments**\n",
    "                                \n",
    "- I changed all special characters in turkish file (trFile) and wrote with english characters to english file (engFile). And when I find special character I add to my array or output file 1 value else 0, to use those as my output in CNN. \n",
    "\n",
    "- Right now we have our input and output files ready. In the other part we should prepare CNN and let it learn from our input and output. I will use 8 bit ASCII value of each char in the input text (engFile).\n",
    "\n",
    "* * *\n",
    "\n",
    "|b|u|g|u|n|\n",
    "|------|------|------|------|------|\n",
    "|0|0|0|1|0|\n",
    "\n",
    "- For example we have bugun written in engFile, we write output file 1 for turkish char \"ü\" as it can be seen above\n",
    "***"
   ]
  },
  {
   "cell_type": "code",
   "execution_count": 7,
   "metadata": {},
   "outputs": [
    {
     "data": {
      "text/plain": [
       "(20, 100, 8)"
      ]
     },
     "execution_count": 7,
     "metadata": {},
     "output_type": "execute_result"
    }
   ],
   "source": [
    "sampleAmount=20#third dimention\n",
    "\n",
    "eng2DArr =[]\n",
    "k=0\n",
    "for i in range(sampleAmount):\n",
    "    eng2DArr.append(engArr[k:k+100])\n",
    "    k+=100\n",
    "\n",
    "eng2DArr = np.array(eng2DArr)\n",
    "#eng2DArr = np.transpose(eng2DArr)\n",
    "eng2DArr.shape"
   ]
  },
  {
   "cell_type": "code",
   "execution_count": 8,
   "metadata": {},
   "outputs": [
    {
     "data": {
      "text/plain": [
       "(20, 100)"
      ]
     },
     "execution_count": 8,
     "metadata": {},
     "output_type": "execute_result"
    }
   ],
   "source": [
    "out2DArr =[]\n",
    "k=0\n",
    "for i in range(sampleAmount):\n",
    "    out2DArr.append(outArr[k:k+100])\n",
    "    k+=100\n",
    "out2DArr = np.array(out2DArr)\n",
    "out2DArr.shape"
   ]
  },
  {
   "cell_type": "code",
   "execution_count": 9,
   "metadata": {},
   "outputs": [
    {
     "name": "stderr",
     "output_type": "stream",
     "text": [
      "/usr/local/lib/python3.6/dist-packages/ipykernel_launcher.py:1: DeprecationWarning: Both axis > a.ndim and axis < -a.ndim - 1 are deprecated and will raise an AxisError in the future.\n",
      "  \"\"\"Entry point for launching an IPython kernel.\n"
     ]
    }
   ],
   "source": [
    "x_train = np.expand_dims(eng2DArr , axis=4)\n",
    "y_train = out2DArr\n",
    "\n",
    "x_test = eng2DArr\n",
    "y_test = out2DArr"
   ]
  },
  {
   "cell_type": "code",
   "execution_count": 10,
   "metadata": {},
   "outputs": [
    {
     "name": "stdout",
     "output_type": "stream",
     "text": [
      "(20, 100, 8, 1)\n",
      "(20, 100)\n"
     ]
    }
   ],
   "source": [
    "print(x_train.shape)\n",
    "print(y_train.shape)"
   ]
  },
  {
   "cell_type": "code",
   "execution_count": 11,
   "metadata": {},
   "outputs": [],
   "source": [
    "model = Sequential()#add model layers\n",
    "model.add(Conv2D(64, kernel_size=4, activation='relu', input_shape=(100,8,1)))\n",
    "model.add(Dropout(0.25))\n",
    "model.add(Conv2D(32, kernel_size=4, activation='relu'))\n",
    "model.add(Flatten())\n",
    "model.add(Dense(100, activation='relu'))\n",
    "model.add(Dense(100, activation='relu'))"
   ]
  },
  {
   "cell_type": "code",
   "execution_count": 12,
   "metadata": {},
   "outputs": [
    {
     "name": "stdout",
     "output_type": "stream",
     "text": [
      "Model: \"sequential_1\"\n",
      "_________________________________________________________________\n",
      "Layer (type)                 Output Shape              Param #   \n",
      "=================================================================\n",
      "conv2d_1 (Conv2D)            (None, 97, 5, 64)         1088      \n",
      "_________________________________________________________________\n",
      "dropout_1 (Dropout)          (None, 97, 5, 64)         0         \n",
      "_________________________________________________________________\n",
      "conv2d_2 (Conv2D)            (None, 94, 2, 32)         32800     \n",
      "_________________________________________________________________\n",
      "flatten_1 (Flatten)          (None, 6016)              0         \n",
      "_________________________________________________________________\n",
      "dense_1 (Dense)              (None, 100)               601700    \n",
      "_________________________________________________________________\n",
      "dense_2 (Dense)              (None, 100)               10100     \n",
      "=================================================================\n",
      "Total params: 645,688\n",
      "Trainable params: 645,688\n",
      "Non-trainable params: 0\n",
      "_________________________________________________________________\n"
     ]
    }
   ],
   "source": [
    "model.compile(optimizer='adam', loss=losses.binary_crossentropy, metrics=['accuracy'])\n",
    "model.summary()"
   ]
  },
  {
   "cell_type": "code",
   "execution_count": 13,
   "metadata": {},
   "outputs": [
    {
     "name": "stdout",
     "output_type": "stream",
     "text": [
      "Epoch 1/50\n",
      "20/20 [==============================] - 0s 10ms/step - loss: 0.7733 - accuracy: 0.9245\n",
      "Epoch 2/50\n",
      "20/20 [==============================] - 0s 2ms/step - loss: 0.7119 - accuracy: 0.8955\n",
      "Epoch 3/50\n",
      "20/20 [==============================] - 0s 2ms/step - loss: 0.7023 - accuracy: 0.8755\n",
      "Epoch 4/50\n",
      "20/20 [==============================] - 0s 2ms/step - loss: 0.6622 - accuracy: 0.8940\n",
      "Epoch 5/50\n",
      "20/20 [==============================] - 0s 2ms/step - loss: 0.6225 - accuracy: 0.9210\n",
      "Epoch 6/50\n",
      "20/20 [==============================] - 0s 2ms/step - loss: 0.6071 - accuracy: 0.9250\n",
      "Epoch 7/50\n",
      "20/20 [==============================] - 0s 2ms/step - loss: 0.5423 - accuracy: 0.9245\n",
      "Epoch 8/50\n",
      "20/20 [==============================] - 0s 2ms/step - loss: 0.5228 - accuracy: 0.9245\n",
      "Epoch 9/50\n",
      "20/20 [==============================] - 0s 2ms/step - loss: 0.5311 - accuracy: 0.9245\n",
      "Epoch 10/50\n",
      "20/20 [==============================] - 0s 3ms/step - loss: 0.4753 - accuracy: 0.9245\n",
      "Epoch 11/50\n",
      "20/20 [==============================] - 0s 2ms/step - loss: 0.4648 - accuracy: 0.9245\n",
      "Epoch 12/50\n",
      "20/20 [==============================] - 0s 2ms/step - loss: 0.4464 - accuracy: 0.9245\n",
      "Epoch 13/50\n",
      "20/20 [==============================] - 0s 2ms/step - loss: 0.4366 - accuracy: 0.9245\n",
      "Epoch 14/50\n",
      "20/20 [==============================] - 0s 2ms/step - loss: 0.4365 - accuracy: 0.9245\n",
      "Epoch 15/50\n",
      "20/20 [==============================] - 0s 2ms/step - loss: 0.4409 - accuracy: 0.9245\n",
      "Epoch 16/50\n",
      "20/20 [==============================] - 0s 2ms/step - loss: 0.4330 - accuracy: 0.9245\n",
      "Epoch 17/50\n",
      "20/20 [==============================] - 0s 2ms/step - loss: 0.4154 - accuracy: 0.9245\n",
      "Epoch 18/50\n",
      "20/20 [==============================] - 0s 2ms/step - loss: 0.4059 - accuracy: 0.9245\n",
      "Epoch 19/50\n",
      "20/20 [==============================] - 0s 2ms/step - loss: 0.3924 - accuracy: 0.9245\n",
      "Epoch 20/50\n",
      "20/20 [==============================] - 0s 3ms/step - loss: 0.3779 - accuracy: 0.9245\n",
      "Epoch 21/50\n",
      "20/20 [==============================] - 0s 2ms/step - loss: 0.3744 - accuracy: 0.9245\n",
      "Epoch 22/50\n",
      "20/20 [==============================] - 0s 2ms/step - loss: 0.3791 - accuracy: 0.9245\n",
      "Epoch 23/50\n",
      "20/20 [==============================] - 0s 2ms/step - loss: 0.3774 - accuracy: 0.9245\n",
      "Epoch 24/50\n",
      "20/20 [==============================] - 0s 2ms/step - loss: 0.3739 - accuracy: 0.9245\n",
      "Epoch 25/50\n",
      "20/20 [==============================] - 0s 2ms/step - loss: 0.3706 - accuracy: 0.9245\n",
      "Epoch 26/50\n",
      "20/20 [==============================] - 0s 2ms/step - loss: 0.3590 - accuracy: 0.9245\n",
      "Epoch 27/50\n",
      "20/20 [==============================] - 0s 2ms/step - loss: 0.3552 - accuracy: 0.9245\n",
      "Epoch 28/50\n",
      "20/20 [==============================] - 0s 3ms/step - loss: 0.3523 - accuracy: 0.9245\n",
      "Epoch 29/50\n",
      "20/20 [==============================] - 0s 3ms/step - loss: 0.3444 - accuracy: 0.9245\n",
      "Epoch 30/50\n",
      "20/20 [==============================] - 0s 3ms/step - loss: 0.3411 - accuracy: 0.9245\n",
      "Epoch 31/50\n",
      "20/20 [==============================] - 0s 3ms/step - loss: 0.3253 - accuracy: 0.9245\n",
      "Epoch 32/50\n",
      "20/20 [==============================] - 0s 3ms/step - loss: 0.3116 - accuracy: 0.9245\n",
      "Epoch 33/50\n",
      "20/20 [==============================] - 0s 2ms/step - loss: 0.2987 - accuracy: 0.9245\n",
      "Epoch 34/50\n",
      "20/20 [==============================] - 0s 3ms/step - loss: 0.2917 - accuracy: 0.9245\n",
      "Epoch 35/50\n",
      "20/20 [==============================] - 0s 3ms/step - loss: 0.3041 - accuracy: 0.9245\n",
      "Epoch 36/50\n",
      "20/20 [==============================] - 0s 2ms/step - loss: 0.3137 - accuracy: 0.9245\n",
      "Epoch 37/50\n",
      "20/20 [==============================] - 0s 3ms/step - loss: 0.3077 - accuracy: 0.9245\n",
      "Epoch 38/50\n",
      "20/20 [==============================] - 0s 3ms/step - loss: 0.2971 - accuracy: 0.9260\n",
      "Epoch 39/50\n",
      "20/20 [==============================] - 0s 3ms/step - loss: 0.2933 - accuracy: 0.9250\n",
      "Epoch 40/50\n",
      "20/20 [==============================] - 0s 2ms/step - loss: 0.2877 - accuracy: 0.9270\n",
      "Epoch 41/50\n",
      "20/20 [==============================] - 0s 3ms/step - loss: 0.2824 - accuracy: 0.9280\n",
      "Epoch 42/50\n",
      "20/20 [==============================] - 0s 2ms/step - loss: 0.2774 - accuracy: 0.9285\n",
      "Epoch 43/50\n",
      "20/20 [==============================] - 0s 3ms/step - loss: 0.2730 - accuracy: 0.9270\n",
      "Epoch 44/50\n",
      "20/20 [==============================] - 0s 3ms/step - loss: 0.2706 - accuracy: 0.9270\n",
      "Epoch 45/50\n",
      "20/20 [==============================] - 0s 3ms/step - loss: 0.2671 - accuracy: 0.9275\n",
      "Epoch 46/50\n",
      "20/20 [==============================] - 0s 3ms/step - loss: 0.2645 - accuracy: 0.9300\n",
      "Epoch 47/50\n",
      "20/20 [==============================] - 0s 3ms/step - loss: 0.2556 - accuracy: 0.9285\n",
      "Epoch 48/50\n",
      "20/20 [==============================] - 0s 3ms/step - loss: 0.2511 - accuracy: 0.9300\n",
      "Epoch 49/50\n",
      "20/20 [==============================] - 0s 3ms/step - loss: 0.2486 - accuracy: 0.9310\n",
      "Epoch 50/50\n",
      "20/20 [==============================] - 0s 3ms/step - loss: 0.2461 - accuracy: 0.9345\n"
     ]
    },
    {
     "data": {
      "text/plain": [
       "<keras.callbacks.callbacks.History at 0x7feb8963fd68>"
      ]
     },
     "execution_count": 13,
     "metadata": {},
     "output_type": "execute_result"
    }
   ],
   "source": [
    "model.fit(x_train, y_train, batch_size=100, epochs=50)"
   ]
  },
  {
   "cell_type": "code",
   "execution_count": 16,
   "metadata": {},
   "outputs": [],
   "source": [
    "trFile.close()"
   ]
  },
  {
   "cell_type": "code",
   "execution_count": null,
   "metadata": {},
   "outputs": [],
   "source": []
  }
 ],
 "metadata": {
  "kernelspec": {
   "display_name": "Python 3",
   "language": "python",
   "name": "python3"
  },
  "language_info": {
   "codemirror_mode": {
    "name": "ipython",
    "version": 3
   },
   "file_extension": ".py",
   "mimetype": "text/x-python",
   "name": "python",
   "nbconvert_exporter": "python",
   "pygments_lexer": "ipython3",
   "version": "3.6.9"
  }
 },
 "nbformat": 4,
 "nbformat_minor": 2
}
